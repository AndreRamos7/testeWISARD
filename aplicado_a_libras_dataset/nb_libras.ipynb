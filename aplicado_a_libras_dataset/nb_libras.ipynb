{
 "cells": [
  {
   "cell_type": "markdown",
   "id": "7d61aa3c",
   "metadata": {},
   "source": [
    "# Treinando dataset de Libras com WiSARD"
   ]
  },
  {
   "cell_type": "markdown",
   "id": "2fbc3b3d",
   "metadata": {},
   "source": [
    "O objetivo deste código é treinar o dataset de Libras (A linguagem brasileira de sinais) através da ferramenta de Redes neurais sem pesos conhecida como WISARD"
   ]
  },
  {
   "cell_type": "markdown",
   "id": "2cfbaa1e",
   "metadata": {},
   "source": [
    "É requerida as seguintes bibliotecas Python instaladas no ambiente conda:\n",
    "* 1 - wisardpkg\n",
    "* 2 - OpenCV\n",
    "* 3 - numpy\n",
    "* 4 - Pandas\n",
    "Uma vez instalados em ambientes preconfigurados, a instalação em linha fica isenta neste notebook."
   ]
  },
  {
   "cell_type": "code",
   "execution_count": 3,
   "id": "f642b8ba",
   "metadata": {},
   "outputs": [],
   "source": [
    "import wisardpkg as wp"
   ]
  },
  {
   "cell_type": "markdown",
   "id": "7d276082",
   "metadata": {},
   "source": [
    "Os seguintes procedimentos serão realisados:\n",
    "* \n",
    "* "
   ]
  },
  {
   "cell_type": "code",
   "execution_count": 6,
   "id": "183097e1",
   "metadata": {},
   "outputs": [
    {
     "name": "stdout",
     "output_type": "stream",
     "text": [
      "Training...\n",
      "Predicting train data...\n",
      "  - Accuracy on train data: 100.00%\n"
     ]
    }
   ],
   "source": [
    "import cv2, os\n",
    "import numpy as np\n",
    "import pandas as pd\n",
    "from matplotlib import pyplot as plt\n",
    "import wisardpkg as wp\n",
    "\n",
    "train = pd.read_csv(\"imagens2csv/train.csv\")\n",
    "\n",
    "#print(train)\n",
    "test = pd.read_csv(\"imagens2csv/test.csv\")\n",
    "df = train.drop(labels=['label'], axis=1)\n",
    "\n",
    "\n",
    "X_train = df.values.tolist()\n",
    "y_train = train['label'].values.astype('str').tolist()\n",
    "X_test = test.values.tolist()\n",
    "\n",
    "\n",
    "def accuracy(y, y_hat):\n",
    "  count = 0\n",
    "  for i in range(len(y)):\n",
    "    if (y[i] == y_hat[i]):\n",
    "      count += 1\n",
    "  return count / len(y)\n",
    "\n",
    "wsd = wp.Wisard(\n",
    "  5, # addressSize\n",
    "  bleachingActivated=True,\n",
    "  ignoreZero=False,\n",
    "  completeAddressing=True,\n",
    "  verbose=True,\n",
    "  indexes=[],\n",
    "  base=256,\n",
    "  confidence=1,\n",
    "  returnActivationDegree=False,\n",
    "  returnConfidence=False,\n",
    "  returnClassesDegrees=False\n",
    ")\n",
    "\n",
    "print(\"Training...\")\n",
    "wsd.train(X_train, y_train)\n",
    "\n",
    "print(\"Predicting train data...\")\n",
    "pred = wsd.classify(X_train)\n",
    "print(\"  - Accuracy on train data: {:.2f}%\".format(accuracy(y_train, pred)*100))"
   ]
  },
  {
   "cell_type": "code",
   "execution_count": null,
   "id": "5cc91bd2",
   "metadata": {},
   "outputs": [],
   "source": []
  }
 ],
 "metadata": {
  "kernelspec": {
   "display_name": "Python 3 (ipykernel)",
   "language": "python",
   "name": "python3"
  },
  "language_info": {
   "codemirror_mode": {
    "name": "ipython",
    "version": 3
   },
   "file_extension": ".py",
   "mimetype": "text/x-python",
   "name": "python",
   "nbconvert_exporter": "python",
   "pygments_lexer": "ipython3",
   "version": "3.8.0"
  }
 },
 "nbformat": 4,
 "nbformat_minor": 5
}
