{
 "cells": [
  {
   "cell_type": "markdown",
   "id": "dd300b68",
   "metadata": {},
   "source": [
    "# Treinando dataset de Libras com WiSARD"
   ]
  },
  {
   "cell_type": "markdown",
   "id": "7cec0bd5",
   "metadata": {},
   "source": [
    "O objetivo deste código é treinar o dataset de Libras (A linguagem brasileira de sinais) através da ferramenta de Redes neurais sem pesos conhecida como WISARD"
   ]
  },
  {
   "cell_type": "markdown",
   "id": "c5272cc8",
   "metadata": {},
   "source": [
    "É requerida as seguintes bibliotecas Python instaladas no ambiente conda:\n",
    "* 1 - wisardpkg\n",
    "* 2 - OpenCV\n",
    "* 3 - numpy\n",
    "* 4 - Pandas\n",
    "Uma vez instalados em ambientes preconfigurados, a instalação em linha fica isenta neste notebook."
   ]
  },
  {
   "cell_type": "code",
   "execution_count": 3,
   "id": "3fabdae0",
   "metadata": {},
   "outputs": [],
   "source": [
    "import wisardpkg as wp"
   ]
  },
  {
   "cell_type": "markdown",
   "id": "5fed9525",
   "metadata": {},
   "source": [
    "Os seguintes procedimentos serão realisados:\n",
    "* \n",
    "* "
   ]
  },
  {
   "cell_type": "code",
   "execution_count": 4,
   "id": "323b1444",
   "metadata": {},
   "outputs": [],
   "source": [
    "addressSize = 3     # number of addressing bits in the ram\n",
    "ignoreZero  = False # optional; causes the rams to ignore the address 0\n",
    "\n",
    "# False by default for performance reasons,\n",
    "# when True, WiSARD prints the progress of train() and classify()\n",
    "verbose = True\n",
    "\n",
    "wsd = wp.Wisard(addressSize, ignoreZero=ignoreZero, verbose=verbose)"
   ]
  },
  {
   "cell_type": "code",
   "execution_count": null,
   "id": "d2adb01b",
   "metadata": {},
   "outputs": [],
   "source": []
  }
 ],
 "metadata": {
  "kernelspec": {
   "display_name": "Python 3 (ipykernel)",
   "language": "python",
   "name": "python3"
  },
  "language_info": {
   "codemirror_mode": {
    "name": "ipython",
    "version": 3
   },
   "file_extension": ".py",
   "mimetype": "text/x-python",
   "name": "python",
   "nbconvert_exporter": "python",
   "pygments_lexer": "ipython3",
   "version": "3.8.0"
  }
 },
 "nbformat": 4,
 "nbformat_minor": 5
}
